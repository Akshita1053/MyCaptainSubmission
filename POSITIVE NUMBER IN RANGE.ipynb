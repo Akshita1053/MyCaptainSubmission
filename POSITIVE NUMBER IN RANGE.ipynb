{
 "cells": [
  {
   "cell_type": "code",
   "execution_count": 1,
   "id": "db174504",
   "metadata": {},
   "outputs": [
    {
     "name": "stdout",
     "output_type": "stream",
     "text": [
      "Input: list1 = [12, -7, 5, 64, -14]\n",
      "Output:\n",
      "12\n",
      "5\n",
      "64\n"
     ]
    }
   ],
   "source": [
    "print(\"Input: list1 = [12, -7, 5, 64, -14]\")\n",
    "list1 = [12, -7, 5, 64, -14]\n",
    "print(\"Output:\")\n",
    "i=0\n",
    "while(i < len(list1)):\n",
    "    if (list1[i] >= 0):\n",
    "        print(list1[i])\n",
    "    i += 1\n",
    "print(\"Input: list2 = [12, 14, -95, 3]\")\n",
    "list1 = [12, 14, -95, 3]\n",
    "print(\"Output:\")\n",
    "i=0\n",
    "while(i < len(list2)):\n",
    "    if (list2[i] >= 0):\n",
    "        print(list2[i])\n",
    "    i += 1"
   ]
  },
  {
   "cell_type": "code",
   "execution_count": null,
   "id": "267c77b6",
   "metadata": {},
   "outputs": [],
   "source": []
  }
 ],
 "metadata": {
  "kernelspec": {
   "display_name": "Python 3",
   "language": "python",
   "name": "python3"
  },
  "language_info": {
   "codemirror_mode": {
    "name": "ipython",
    "version": 3
   },
   "file_extension": ".py",
   "mimetype": "text/x-python",
   "name": "python",
   "nbconvert_exporter": "python",
   "pygments_lexer": "ipython3",
   "version": "3.9.0"
  }
 },
 "nbformat": 4,
 "nbformat_minor": 5
}
