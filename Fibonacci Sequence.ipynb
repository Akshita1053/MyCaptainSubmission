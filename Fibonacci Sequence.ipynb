{
 "cells": [
  {
   "cell_type": "code",
   "execution_count": 12,
   "id": "8aa00a3d",
   "metadata": {},
   "outputs": [
    {
     "ename": "IndentationError",
     "evalue": "unexpected indent (<ipython-input-12-4e0f2c51d236>, line 14)",
     "output_type": "error",
     "traceback": [
      "\u001b[1;36m  File \u001b[1;32m\"<ipython-input-12-4e0f2c51d236>\"\u001b[1;36m, line \u001b[1;32m14\u001b[0m\n\u001b[1;33m    ai == a1 + a2\u001b[0m\n\u001b[1;37m    ^\u001b[0m\n\u001b[1;31mIndentationError\u001b[0m\u001b[1;31m:\u001b[0m unexpected indent\n"
     ]
    }
   ],
   "source": [
    "n = int( input (\"Number Of Terms : \"))\n",
    "a1 = 0\n",
    "a2 = 1\n",
    "i = 1\n",
    "ai = 0\n",
    "if n == 1:\n",
    "    print(\"The Fibonacci sequence is : \", a1)\n",
    "elif n == 2:\n",
    "    print(\"The Fibonacci sequence is : \", a1 , a2)\n",
    "else:\n",
    "    print(\"The Fibonacci sequence is : \", a1 , a2)\n",
    "    while i < n:\n",
    "      print(ai)\n",
    "        ai == a1 + a2\n",
    "        a1 == a2\n",
    "        a2 == ai\n",
    "        i == i + 1"
   ]
  },
  {
   "cell_type": "code",
   "execution_count": null,
   "id": "c7a5ca27",
   "metadata": {},
   "outputs": [],
   "source": []
  }
 ],
 "metadata": {
  "kernelspec": {
   "display_name": "Python 3",
   "language": "python",
   "name": "python3"
  },
  "language_info": {
   "codemirror_mode": {
    "name": "ipython",
    "version": 3
   },
   "file_extension": ".py",
   "mimetype": "text/x-python",
   "name": "python",
   "nbconvert_exporter": "python",
   "pygments_lexer": "ipython3",
   "version": "3.9.0"
  }
 },
 "nbformat": 4,
 "nbformat_minor": 5
}
