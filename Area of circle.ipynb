{
 "cells": [
  {
   "cell_type": "code",
   "execution_count": 5,
   "id": "893e1f1f",
   "metadata": {},
   "outputs": [
    {
     "name": "stdout",
     "output_type": "stream",
     "text": [
      "Input the radius of the circle = 1.1\n",
      " The area of the circle of the radius  1.1  is  3.8028571428571434\n"
     ]
    }
   ],
   "source": [
    "radius = input(\"Input the radius of the circle = \")\n",
    "radius = float(radius)\n",
    "print(\" The area of the circle of the radius \", radius ,\" is \", 22/7 * radius ** 2)"
   ]
  },
  {
   "cell_type": "code",
   "execution_count": null,
   "id": "604be465",
   "metadata": {},
   "outputs": [],
   "source": []
  }
 ],
 "metadata": {
  "kernelspec": {
   "display_name": "Python 3",
   "language": "python",
   "name": "python3"
  },
  "language_info": {
   "codemirror_mode": {
    "name": "ipython",
    "version": 3
   },
   "file_extension": ".py",
   "mimetype": "text/x-python",
   "name": "python",
   "nbconvert_exporter": "python",
   "pygments_lexer": "ipython3",
   "version": "3.9.0"
  }
 },
 "nbformat": 4,
 "nbformat_minor": 5
}
