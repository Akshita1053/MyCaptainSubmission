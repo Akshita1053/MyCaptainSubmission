{
 "cells": [
  {
   "cell_type": "code",
   "execution_count": 4,
   "id": "ccceb30d",
   "metadata": {},
   "outputs": [
    {
     "name": "stdout",
     "output_type": "stream",
     "text": [
      "Enter your string : bhibhibho\n"
     ]
    }
   ],
   "source": [
    "input(\"Enter your string : \")\n",
    "def most_frequent(i : str):\n",
    "    out_dic = {}\n",
    "    for i in most_frequent:\n",
    "        if i in out_dic:\n",
    "            out_dic[i] += 1\n",
    "        else:\n",
    "            out_dic[i] = 1\n",
    "    return out_dic"
   ]
  },
  {
   "cell_type": "code",
   "execution_count": null,
   "id": "2f062253",
   "metadata": {},
   "outputs": [],
   "source": []
  },
  {
   "cell_type": "code",
   "execution_count": null,
   "id": "ae0f70cf",
   "metadata": {},
   "outputs": [],
   "source": []
  }
 ],
 "metadata": {
  "kernelspec": {
   "display_name": "Python 3",
   "language": "python",
   "name": "python3"
  },
  "language_info": {
   "codemirror_mode": {
    "name": "ipython",
    "version": 3
   },
   "file_extension": ".py",
   "mimetype": "text/x-python",
   "name": "python",
   "nbconvert_exporter": "python",
   "pygments_lexer": "ipython3",
   "version": "3.9.0"
  }
 },
 "nbformat": 4,
 "nbformat_minor": 5
}
